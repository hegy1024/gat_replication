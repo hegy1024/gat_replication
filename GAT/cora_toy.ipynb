{
 "cells": [
  {
   "cell_type": "code",
   "execution_count": 1,
   "id": "initial_id",
   "metadata": {
    "collapsed": true,
    "ExecuteTime": {
     "end_time": "2023-10-25T08:19:34.277157400Z",
     "start_time": "2023-10-25T08:19:33.293519700Z"
    }
   },
   "outputs": [],
   "source": [
    "import pickle\n",
    "import matplotlib.pyplot as plt\n",
    "import networkx as nx\n",
    "\n",
    "import scipy.sparse as sp\n",
    "import numpy as np\n",
    "\n",
    "import torch"
   ]
  },
  {
   "cell_type": "code",
   "execution_count": 2,
   "outputs": [],
   "source": [
    "import os\n",
    "import enum\n",
    "\n",
    "# 相关数据集，仅含Cora\n",
    "class DatasetType(enum.Enum):\n",
    "    CORA = 0\n",
    "\n",
    "# 图可视化工具库\n",
    "class GraphVisualizationTool(enum.Enum):\n",
    "    NETWORKX = 0,\n",
    "    IGRAPH = 1\n",
    "    \n",
    "# 数据集路径\n",
    "DATA_DIR_PATH = os.path.join(os.getcwd(), 'data')\n",
    "CORA_PATH = os.path.join(DATA_DIR_PATH, 'cora')\n",
    "\n",
    "# 数据集划分\n",
    "CORA_TRAIN_RANGE = [0, 140]\n",
    "CORA_VAL_RANGE = [140, 140 + 500]\n",
    "CORA_TEST_RANGE = [1708, 1708 + 1000]\n",
    "CORA_NUM_INPUT_FEATURES = 1433\n",
    "CORA_NUM_CLASSES = 7\n",
    "\n",
    "# 使用t-SNE降维或可视化时的节点颜色\n",
    "cora_label_to_color_map = {0:'red', 1:'blue', 2:'green', 3:'orange', 4:'yellow', 5:'pink', 6:'gray'}"
   ],
   "metadata": {
    "collapsed": false,
    "ExecuteTime": {
     "end_time": "2023-10-25T08:19:34.298103600Z",
     "start_time": "2023-10-25T08:19:34.281153200Z"
    }
   },
   "id": "70f7cdcac06d84a9"
  },
  {
   "cell_type": "code",
   "execution_count": 3,
   "outputs": [],
   "source": [
    "# cora数据集以pickle方式存储\n",
    "def pickle_read(path):\n",
    "    with open(path, 'rb') as file:\n",
    "        data = pickle.load(file)\n",
    "    \n",
    "    return data\n",
    "\n",
    "def pickle_save(path, data):\n",
    "    with open(path, 'rb') as file:\n",
    "        pickle.dump(data, file, protocol=pickle.HIGHEST_PROTOCOL)  # protocol表示序列化模式，pickle.HIGHEST_PROTOCOL值为4"
   ],
   "metadata": {
    "collapsed": false,
    "ExecuteTime": {
     "end_time": "2023-10-25T08:19:34.330013200Z",
     "start_time": "2023-10-25T08:19:34.294110400Z"
    }
   },
   "id": "9ba541bbd2abb522"
  },
  {
   "cell_type": "code",
   "execution_count": 4,
   "outputs": [],
   "source": [
    "def normalize_features_sparse(node_features_sparse):\n",
    "    assert sp.issparse(node_features_sparse), f'Excepted a sparse matrix, got {node_features_sparse}.'\n",
    "    \n",
    "    # 使用矩阵特征逆和进行乘法,先求和\n",
    "    node_features_sum = np.array(node_features_sparse.sum(-1))\n",
    "    \n",
    "    # 再取逆，因为乘1/x比直接除x快\n",
    "    node_features_inv_sum = np.power(node_features_sum, -1).squeeze()\n",
    "    \n",
    "    # 将无效值设置为1\n",
    "    node_features_inv_sum[np.isinf(node_features_inv_sum)] = 1.\n",
    "    \n",
    "    # 创建一个值为node_features_inv_sum的对角矩阵\n",
    "    diagonal_inv_features_sum_matrix = sp.diags(node_features_inv_sum)\n",
    "    \n",
    "    return diagonal_inv_features_sum_matrix.dot(node_features_sparse)"
   ],
   "metadata": {
    "collapsed": false,
    "ExecuteTime": {
     "end_time": "2023-10-25T08:19:34.330013200Z",
     "start_time": "2023-10-25T08:19:34.309073200Z"
    }
   },
   "id": "68da9288b23a47c7"
  },
  {
   "cell_type": "code",
   "execution_count": 5,
   "outputs": [],
   "source": [
    "def build_edge_index(adj_list_dict, num_of_nodes, add_self_edges=True):\n",
    "    source_nodes_ids, target_nodes_ids = [], []\n",
    "    seen_edges = set()\n",
    "    \n",
    "    for src_node, neighboring_nodes in adj_list_dict.items():\n",
    "        for trg_node in neighboring_nodes:\n",
    "            if (src_node, trg_node) not in seen_edges:\n",
    "                source_nodes_ids.append(src_node)\n",
    "                target_nodes_ids.append(trg_node)\n",
    "                \n",
    "                seen_edges.add((src_node, trg_node))\n",
    "    \n",
    "    if add_self_edges:\n",
    "        source_nodes_ids.extend(np.arange(num_of_nodes))\n",
    "        target_nodes_ids.extend(np.arange(num_of_nodes))\n",
    "        \n",
    "    edge_index = np.row_stack((source_nodes_ids, target_nodes_ids))\n",
    "    \n",
    "    return edge_index"
   ],
   "metadata": {
    "collapsed": false,
    "ExecuteTime": {
     "end_time": "2023-10-25T08:19:34.352965200Z",
     "start_time": "2023-10-25T08:19:34.324030300Z"
    }
   },
   "id": "94713843c14b2135"
  },
  {
   "cell_type": "code",
   "execution_count": 6,
   "outputs": [],
   "source": [
    "def plot_in_out_degree_distributions(edge_index, num_of_nodes, dataset_name):\n",
    "    if isinstance(edge_index, torch.Tensor):\n",
    "        edge_index = edge_index.cpu().numpy()\n",
    "        \n",
    "    assert isinstance(edge_index, np.ndarray), f'Excepted NumPy array got {type(edge_index)}.'\n",
    "    \n",
    "    # 计算图的入度和出度\n",
    "    in_degrees = np.zeros(num_of_nodes, dtype=np.int)\n",
    "    out_degrees = np.zeros(num_of_nodes, dtype=np.int)\n",
    "\n",
    "    for src_id, trg_id in zip(edge_index[0], edge_index[1]):\n",
    "        out_degrees[src_id] += 1\n",
    "        in_degrees[trg_id] += 1\n",
    "    \n",
    "    hist = np.zeros(np.max(out_degrees) + 1)\n",
    "    for out_degree in out_degrees:\n",
    "        hist[out_degree] += 1\n",
    "    \n",
    "    # 画图\n",
    "    fig = plt.figure(figsize=(12, 8), dpi=100)\n",
    "    fig.subplots_adjust(hspace=0.6)\n",
    "    \n",
    "    plt.subplot(311)\n",
    "    plt.plot(in_degrees, color='red')\n",
    "    plt.xlabel('node id'); plt.ylabel('in-degree count'); plt.title('Input degree for different node idx')\n",
    "    \n",
    "    plt.subplot(312)\n",
    "    plt.plot(out_degrees, color='green')\n",
    "    plt.xlabel('node id'); plt.ylabel('out-degree count'); plt.title('Output degree for different node idx')\n",
    "    \n",
    "    plt.subplot(313)\n",
    "    plt.plot(hist, color='blue')\n",
    "    plt.xlabel('node degree')\n",
    "    plt.ylabel('# nodes for a given out-degree') \n",
    "    plt.title(f'Node out-degree distribution for {dataset_name} dataset')\n",
    "    plt.xticks(np.arange(0, len(hist), 5.0))\n",
    "    \n",
    "    plt.grid(True)\n",
    "    plt.show()"
   ],
   "metadata": {
    "collapsed": false,
    "ExecuteTime": {
     "end_time": "2023-10-25T08:19:34.387860500Z",
     "start_time": "2023-10-25T08:19:34.340985100Z"
    }
   },
   "id": "35a7f764e1be19fc"
  },
  {
   "cell_type": "code",
   "execution_count": 7,
   "outputs": [],
   "source": [
    "def visualize_graph():\n",
    "    pass"
   ],
   "metadata": {
    "collapsed": false,
    "ExecuteTime": {
     "end_time": "2023-10-25T08:19:34.388856600Z",
     "start_time": "2023-10-25T08:19:34.355954900Z"
    }
   },
   "id": "47f69b9b47b2798a"
  },
  {
   "cell_type": "code",
   "execution_count": 8,
   "outputs": [],
   "source": [
    "# 加载数据集\n",
    "def load_graph_data(training_config, device):\n",
    "    dataset_name = training_config['dataset_name'].lower()\n",
    "    should_visualize = training_config['should_visualize']\n",
    "    \n",
    "    if dataset_name == DatasetType.CORA.name.lower():\n",
    "        # shape = (N, M), N 为节点个数，M为节点特征个数\n",
    "        node_features_csr = pickle_read(os.path.join(CORA_PATH, 'node_features.csr'))\n",
    "        # shape = (N, 1)\n",
    "        node_labels_npy = pickle_read(os.path.join(CORA_PATH, 'node_labels.npy'))\n",
    "        # Shape = (N, N_neighbor)  <-这是一个字典，而不是矩阵\n",
    "        adj_list_dict = pickle_read(os.path.join(CORA_PATH, 'adjacency_list.dict'))\n",
    "        \n",
    "        # 特征正则化，有助于模型训练\n",
    "        node_features_csr = normalize_features_sparse(node_features_csr)\n",
    "        num_of_nodes = len(node_labels_npy)\n",
    "        \n",
    "        # shape = (2, E), E 为边的个数, 2 表示从源节点和目标节点\n",
    "        topology = build_edge_index(adj_list_dict, num_of_nodes, add_self_edges=True)\n",
    "        \n",
    "        if should_visualize: # 绘制原图\n",
    "            plot_in_out_degree_distributions(topology, num_of_nodes, dataset_name)\n",
    "            visualize_graph(topology, node_labels_npy, dataset_name)\n",
    "            \n",
    "        # 将现有数据转换为pytorch张量格式\n",
    "        topology = torch.tensor(topology, dtype=torch.long, device=device)\n",
    "        node_labels = torch.tensor(node_labels_npy, dtype=torch.long, device=device)\n",
    "        node_features = torch.tensor(node_features_csr.todense(), device=device)\n",
    "        \n",
    "        # 划分训练集、测试集、验证集,返回下标\n",
    "        train_indices = torch.arange(CORA_TRAIN_RANGE[0], CORA_TRAIN_RANGE[1], dtype=torch.long, device=device)\n",
    "        val_indices = torch.arange(CORA_VAL_RANGE[0], CORA_VAL_RANGE[1], dtype=torch.long, device=device)\n",
    "        test_indices = torch.arange(CORA_TEST_RANGE[0], CORA_TEST_RANGE[1], dtype=torch.long, device=device)\n",
    "        \n",
    "        return node_features, node_labels, topology, train_indices, val_indices, test_indices\n",
    "    else:\n",
    "        raise  Exception(f'{dataset_name} not yet supported.')"
   ],
   "metadata": {
    "collapsed": false,
    "ExecuteTime": {
     "end_time": "2023-10-25T08:19:34.388856600Z",
     "start_time": "2023-10-25T08:19:34.373900Z"
    }
   },
   "id": "4649f35e5722a0de"
  },
  {
   "cell_type": "markdown",
   "source": [
    "## TEST1 Explore Core Dataset"
   ],
   "metadata": {
    "collapsed": false
   },
   "id": "a060c98e69477cae"
  },
  {
   "cell_type": "code",
   "execution_count": 9,
   "outputs": [
    {
     "name": "stderr",
     "output_type": "stream",
     "text": [
      "C:\\Users\\pc\\AppData\\Local\\Temp\\ipykernel_14428\\929043455.py:4: DeprecationWarning: Please use `csr_matrix` from the `scipy.sparse` namespace, the `scipy.sparse.csr` namespace is deprecated.\n",
      "  data = pickle.load(file)\n"
     ]
    },
    {
     "name": "stdout",
     "output_type": "stream",
     "text": [
      "torch.Size([2708, 1433]) torch.float32\n",
      "torch.Size([2708]) torch.int64\n",
      "torch.Size([2, 13264]) torch.int64\n",
      "torch.Size([140]) torch.int64\n",
      "torch.Size([500]) torch.int64\n",
      "torch.Size([1000]) torch.int64\n"
     ]
    }
   ],
   "source": [
    "device = torch.device('cuda' if torch.cuda.is_available() else 'gpu')\n",
    "\n",
    "config = {\n",
    "    'dataset_name': DatasetType.CORA.name,\n",
    "    'should_visualize': False\n",
    "}\n",
    "\n",
    "node_features, node_labels, edge_index, train_indices, val_indices, test_indices = load_graph_data(config, device)\n",
    "\n",
    "print(node_features.shape, node_features.dtype)\n",
    "print(node_labels.shape, node_labels.dtype)\n",
    "print(edge_index.shape, edge_index.dtype)\n",
    "print(train_indices.shape, train_indices.dtype)\n",
    "print(val_indices.shape, val_indices.dtype)\n",
    "print(test_indices.shape, test_indices.dtype)"
   ],
   "metadata": {
    "collapsed": false,
    "ExecuteTime": {
     "end_time": "2023-10-25T08:19:35.601545200Z",
     "start_time": "2023-10-25T08:19:34.386863700Z"
    }
   },
   "id": "baa0efdda3a89320"
  },
  {
   "cell_type": "code",
   "execution_count": 10,
   "outputs": [
    {
     "name": "stderr",
     "output_type": "stream",
     "text": [
      "C:\\Users\\pc\\AppData\\Local\\Temp\\ipykernel_14428\\626277400.py:8: DeprecationWarning: `np.int` is a deprecated alias for the builtin `int`. To silence this warning, use `int` by itself. Doing this will not modify any behavior and is safe. When replacing `np.int`, you may wish to use e.g. `np.int64` or `np.int32` to specify the precision. If you wish to review your current use, check the release note link for additional information.\n",
      "Deprecated in NumPy 1.20; for more details and guidance: https://numpy.org/devdocs/release/1.20.0-notes.html#deprecations\n",
      "  in_degrees = np.zeros(num_of_nodes, dtype=np.int)\n",
      "C:\\Users\\pc\\AppData\\Local\\Temp\\ipykernel_14428\\626277400.py:9: DeprecationWarning: `np.int` is a deprecated alias for the builtin `int`. To silence this warning, use `int` by itself. Doing this will not modify any behavior and is safe. When replacing `np.int`, you may wish to use e.g. `np.int64` or `np.int32` to specify the precision. If you wish to review your current use, check the release note link for additional information.\n",
      "Deprecated in NumPy 1.20; for more details and guidance: https://numpy.org/devdocs/release/1.20.0-notes.html#deprecations\n",
      "  out_degrees = np.zeros(num_of_nodes, dtype=np.int)\n"
     ]
    },
    {
     "data": {
      "text/plain": "<Figure size 1200x800 with 3 Axes>",
      "image/png": "[encoded data removed]"
     },
     "metadata": {},
     "output_type": "display_data"
    }
   ],
   "source": [
    "num_of_nodes = len(node_labels)\n",
    "plot_in_out_degree_distributions(edge_index, num_of_nodes, config['dataset_name'])"
   ],
   "metadata": {
    "collapsed": false,
    "ExecuteTime": {
     "end_time": "2023-10-25T08:19:36.047300300Z",
     "start_time": "2023-10-25T08:19:35.603497200Z"
    }
   },
   "id": "7a0b73ee4474df08"
  },
  {
   "cell_type": "code",
   "execution_count": null,
   "outputs": [],
   "source": [
    "import igraph as ig\n",
    "dataset_name = config['dataset_name']\n",
    "visualization_tool = GraphVisualizationTool.IGRAPH\n",
    "\n",
    "# 调整为igraph格式\n",
    "if isinstance(edge_index, torch.Tensor):\n",
    "    edge_index_np = edge_index.cpu().numpy()\n",
    "\n",
    "if isinstance(node_labels, torch.Tensor):\n",
    "    node_labels_np = node_labels.cpu().numpy()\n",
    "\n",
    "num_of_nodes = len(node_labels_np)\n",
    "edge_index_tuples = list(zip(edge_index_np[0, :], edge_index_np[1, :]))\n",
    "\n",
    "# 结构化igraph数\n",
    "ig_graph = ig.Graph()\n",
    "ig_graph.add_vertices(num_of_nodes)\n",
    "ig_graph.add_edges(edge_index_tuples)\n",
    "\n",
    "# 准备可视化设置字典\n",
    "visual_dict = {}\n",
    "\n",
    "visual_dict['bbox'] = (1000, 1000)\n",
    "visual_dict['margin'] = 5\n",
    "\n",
    "# 设置边缘宽度\n",
    "edge_weights_raw = np.clip(np.log(np.asarray(ig_graph.edge_betweenness()) + 1e-16), a_min=0, a_max=None)\n",
    "edge_weights_raw_normalized = edge_weights_raw / np.max(edge_weights_raw)\n",
    "edge_weights = [w**6 for w in edge_weights_raw_normalized]\n",
    "visual_dict['edge_width'] = edge_weights\n",
    "\n",
    "# 设置节点大小\n",
    "visual_dict['vertex_size'] = [deg / 2 for deg in ig_graph.degree()]\n",
    "\n",
    "# 设置节点颜色\n",
    "visual_dict['vertex_color'] = [cora_label_to_color_map[label] for label in node_labels_np]\n",
    "visual_dict['layout'] = ig_graph.layout_kamada_kawai()\n",
    "\n",
    "print('Plotting results...')\n",
    "ig.plot(ig_graph, **visual_dict)"
   ],
   "metadata": {
    "collapsed": false
   },
   "id": "3886ed6e5a83ff33"
  },
  {
   "cell_type": "markdown",
   "source": [
    "## GAT"
   ],
   "metadata": {
    "collapsed": false
   },
   "id": "f425b4b4b4ea0c49"
  },
  {
   "cell_type": "code",
   "execution_count": 21,
   "outputs": [],
   "source": [
    "import torch.nn as nn\n",
    "from torch.optim import Adam"
   ],
   "metadata": {
    "collapsed": false,
    "ExecuteTime": {
     "end_time": "2023-10-25T08:32:32.413095700Z",
     "start_time": "2023-10-25T08:32:32.388159900Z"
    }
   },
   "id": "f1064514e38a6c8a"
  },
  {
   "cell_type": "code",
   "execution_count": 31,
   "outputs": [],
   "source": [
    "class GAT(torch.nn.Module):\n",
    "    def __init__(self, num_of_layers, num_heads_per_layer, num_features_per_layer, add_skip_connection=True, bias=True,\n",
    "                 dropout=0.6, log_attention_weights=False):\n",
    "        super().__init__()\n",
    "        \n",
    "        assert num_of_layers == len(num_heads_per_layer) == len(num_features_per_layer) - 1, f'Enter valid arch params.'\n",
    "        num_heads_per_layer = [1] + num_heads_per_layer\n",
    "        \n",
    "        gat_layers = []\n",
    "        for i in range(num_of_layers):\n",
    "            layer = GATLayer(\n",
    "                num_in_features=num_features_per_layer[i] * num_heads_per_layer[i],  # consequence of concatenation\n",
    "                num_out_features=num_features_per_layer[i+1],\n",
    "                num_of_heads=num_heads_per_layer[i+1],\n",
    "                concat=True if i < num_of_layers - 1 else False,  # last GAT layer does mean avg, the others do concat\n",
    "                activation=nn.ELU() if i < num_of_layers - 1 else None,  # last layer just outputs raw scores\n",
    "                dropout_prob=dropout,\n",
    "                add_skip_connection=add_skip_connection,\n",
    "                bias=bias,\n",
    "                log_attention_weights=log_attention_weights\n",
    "            )\n",
    "            gat_layers.append(layer)\n",
    "\n",
    "        self.gat_net = nn.Sequential(\n",
    "            *gat_layers,\n",
    "        )\n",
    "\n",
    "    # data is just a (in_nodes_features, edge_index) tuple, I had to do it like this because of the nn.Sequential:\n",
    "    # https://discuss.pytorch.org/t/forward-takes-2-positional-arguments-but-3-were-given-for-nn-sqeuential-with-linear-layers/65698\n",
    "    def forward(self, data):\n",
    "        return self.gat_net(data)"
   ],
   "metadata": {
    "collapsed": false,
    "ExecuteTime": {
     "end_time": "2023-10-26T13:23:15.948367Z",
     "start_time": "2023-10-26T13:23:15.934410100Z"
    }
   },
   "id": "3d0208b0e75ddd03"
  },
  {
   "cell_type": "markdown",
   "source": [
    "## GAT layer"
   ],
   "metadata": {
    "collapsed": false
   },
   "id": "907b5632ed6e5c74"
  },
  {
   "cell_type": "code",
   "execution_count": 33,
   "outputs": [],
   "source": [
    "class GATLayer(torch.nn.Module):\n",
    "    \n",
    "    # 设置全局变量\n",
    "    src_nodes_dim = 0\n",
    "    trg_nodes_dim = 1\n",
    "    \n",
    "    nodes_dim = 0\n",
    "    head_dim = 1\n",
    "    \n",
    "    def __init__(self, num_in_features, num_out_features, num_of_heads, concat=True, activation=nn.ELU(),\n",
    "                 dropout_prob=0.6, add_skip_connection=True, bias=True, log_attention_weights=False):\n",
    "        super().__init__()\n",
    "        \n",
    "        self.num_of_heads = num_of_nodes  # 多头注意力的头数\n",
    "        self.num_out_features = num_out_features  # 输出特征的维度\n",
    "        self.concat = concat  # 输出方式\n",
    "        self.add_skip_connection = add_skip_connection  \n",
    "        \n",
    "        self.linear_proj = nn.Linear(num_in_features, num_of_heads * num_out_features, bias=False)\n",
    "        \n",
    "        # 初始化权重\n",
    "        self.scoring_fn_target = nn.Parameter(torch.Tensor(1, num_of_heads, num_out_features))\n",
    "        self.scoring_fn_source = nn.Parameter(torch.Tensor(1, num_of_heads, num_out_features))\n",
    "        \n",
    "        if bias and concat:\n",
    "            self.bias = nn.Parameter(torch.Tensor(num_of_heads * num_out_features)) \n",
    "        elif bias and not concat:\n",
    "            self.bias = nn.Parameter(torch.Tensor(num_out_features)) # 将偏移量设置为待学习的参数\n",
    "        else:\n",
    "            self.register_parameter('bias', None)  # 将偏移量置为0\n",
    "        \n",
    "        if add_skip_connection:\n",
    "            self.skip_proj = nn.Linear(num_in_features, num_of_heads * num_out_features, bias=False)\n",
    "        else:\n",
    "            self.register_parameter('skip_proj', None)\n",
    "        \n",
    "        self.leakyReLU  = nn.LeakyReLU(0.2)\n",
    "        self.activation = activation\n",
    "        self.dropout    = nn.Dropout(p=dropout_prob)\n",
    "        self.log_attention_weights = log_attention_weights  \n",
    "        self.attention_weights = None\n",
    "        \n",
    "        self.init_params()\n",
    "        \n",
    "    def forward(self, data):\n",
    "        #\n",
    "        # Step 1: Linear Projection + regularization\n",
    "        #\n",
    "        \n",
    "        in_nodes_features, edge_index = data\n",
    "        num_of_nodes = in_nodes_features.shape[self.nodes_dim]\n",
    "        assert edge_index.shape[0] == 2\n",
    "        \n",
    "        in_nodes_features = self.dropout(in_nodes_features)\n",
    "        \n",
    "        # (N, FIN) * (FIN, NH * FOUT) -> (N, NH, FOUT)\n",
    "        nodes_features_proj = self.linear_proj(in_nodes_features).view(-1, self.num_of_heads, self.num_out_features)  # -1表示维度待定\n",
    "        nodes_features_proj = self.dropout(nodes_features_proj)\n",
    "        \n",
    "        #\n",
    "        # Step 2: Edge attention calculation\n",
    "        #\n",
    "        \n",
    "        # (N, NH, FOUT) * (1, NH, FOUT) -> (N, NH, 1) -> (N, NH)\n",
    "        scores_source = (nodes_features_proj * self.scoring_fn_source).sum(dim=-1)\n",
    "        scores_target = (nodes_features_proj * self.scoring_fn_target).sum(dim=-1)\n",
    "        \n",
    "        scores_source_lifted, scores_target_lifted, nodes_features_proj_lifted = self.lift(scores_source, scores_target, nodes_features_proj)\n",
    "        scores_per_edge = self.leakyReLU(scores_source_lifted + scores_target_lifted)\n",
    "        \n",
    "        attentions_per_edge = self.neighborhood_aware_softmax(scores_per_edge, edge_index[self.trg_nodes_dim], num_of_nodes)\n",
    "        attentions_per_edge = self.dropout(attentions_per_edge)\n",
    "        \n",
    "        #\n",
    "        # Step 3: Neighborhood aggregation\n",
    "        #\n",
    "        \n",
    "        nodes_features_proj_lifted_weighted = nodes_features_proj_lifted * attentions_per_edge\n",
    "        out_nodes_features = self.aggregate_neighbors(nodes_features_proj_lifted_weighted, edge_index, in_nodes_features, num_of_nodes)\n",
    "        \n",
    "        #\n",
    "        # Step 4: Residual/skip connections, concat and bias\n",
    "        #\n",
    "        out_nodes_features = self.skip_concat_bias(attentions_per_edge, in_nodes_features, out_nodes_features)\n",
    "        \n",
    "        return (out_nodes_features, edge_index)\n",
    "    \n",
    "    def neighborhood_aware_softmax(self, scores_per_edge, trg_index, num_of_nodes):\n",
    "        # ????\n",
    "        scores_per_edge = scores_per_edge - scores_per_edge.max()\n",
    "        exp_scores_per_edge = scores_per_edge.exp()\n",
    "        \n",
    "        neighborhood_aware_denominator = self.sum_edge_scores_neighborhood_aware(exp_scores_per_edge, trg_index, num_of_nodes)\n",
    "        attentions_per_edge = exp_scores_per_edge / (neighborhood_aware_denominator + 1e-16)\n",
    "        \n",
    "        return attentions_per_edge.unsqueeze(dim=-1)\n",
    "    \n",
    "    def sum_edge_scores_neighborhood_aware(self, exp_scores_per_edge, trg_index, num_of_nodes):\n",
    "        # ????\n",
    "        trg_index_broadcasted = self.explicit_broadcated(trg_index, exp_scores_per_edge)\n",
    "        \n",
    "        size = list[exp_scores_per_edge.shape]\n",
    "        size[self.nodes_dim] = num_of_nodes\n",
    "        neighborhood_sums = torch.zeros(size, dtype=exp_scores_per_edge.dtype, device=exp_scores_per_edge.device)\n",
    "        neighborhood_sums.scatter_add_(self.nodes_dim, trg_index_broadcasted, exp_scores_per_edge)\n",
    "        \n",
    "        return neighborhood_sums.index_select(self.nodes_dim, trg_index)\n",
    "    \n",
    "    def aggregate_neighbors(self, nodes_features_proj_lifted_weighted, edge_index, in_nodes_features, num_of_nodes):\n",
    "        # ????\n",
    "        size = list(nodes_features_proj_lifted_weighted)\n",
    "        size[self.nodes_dim] = num_of_nodes\n",
    "        out_nodes_features = torch.zeros(size, dtype=in_nodes_features.dtype, device=in_nodes_features.device)\n",
    "        \n",
    "        trg_index_broadcasted = self.explicit_broadcast(edge_index[self.trg_nodes_dim], nodes_features_proj_lifted_weighted)\n",
    "        out_nodes_features.scatter_add_(self.nodes_dim, trg_index_broadcasted, nodes_features_proj_lifted_weighted)\n",
    "        \n",
    "        return out_nodes_features\n",
    "    \n",
    "    def lift(self, scores_source, scores_target, node_features_matrix_proj, edge_index):\n",
    "        src_nodes_index = edge_index[self.src_nodes_dim]\n",
    "        trg_nodes_index = edge_index[self.trg_nodes_dim]\n",
    "        \n",
    "        scores_source = scores_source.index_select(self.nodes_dim, src_nodes_index)\n",
    "        scores_target = scores_target.index_select(self.nodes_dim, trg_nodes_index)\n",
    "        node_features_matrix_proj_lifted = node_features_matrix_proj.index_select(self.nodes_dim, src_nodes_index)\n",
    "        \n",
    "        return scores_source, scores_target, node_features_matrix_proj_lifted\n",
    "    \n",
    "    def explicit_broadcast(self, this, other):\n",
    "        for _ in range(this.dim(), other.dim()):\n",
    "            this = this.unsqueeze(-1)\n",
    "            \n",
    "        return this.expand_as(other)\n",
    "    \n",
    "    def init_params(self):\n",
    "        nn.init.xavier_normal_(self.linear_proj.weight)\n",
    "        nn.init.xavier_normal_(self.scoring_fn_target)\n",
    "        nn.init.xavier_normal_(self.scoring_fn_source)\n",
    "        \n",
    "        if self.bias is not None:\n",
    "            torch.nn.init.zeros_(self.bias)\n",
    "            \n",
    "    def skip_concat_bias(self, attention_coefficients, in_nodes_features, out_nodes_features):\n",
    "        if self.log_attention_weights:\n",
    "            self.attention_weights = attention_coefficients\n",
    "            \n",
    "        if self.add_skip_connection:\n",
    "            if out_nodes_features.shape[-1] == in_nodes_features.shape[-1]:\n",
    "                out_nodes_features += in_nodes_features.unsqueeze(1)\n",
    "            else:\n",
    "                out_nodes_features += self.skip_proj(in_nodes_features).view(-1, self.num_out_heads, self.num_out_features)\n",
    "        if self.concat:\n",
    "            out_nodes_features = out_nodes_features.view(-1, self.num_of_heads * self.num_out_features)\n",
    "        else:\n",
    "            out_nodes_features = out_nodes_features.mean(dim=self.head_dim)\n",
    "        \n",
    "        if self.bias is not None:\n",
    "            out_nodes_features += self.bias\n",
    "            \n",
    "        return out_nodes_features if self.activation is None else self.activation(out_nodes_features)"
   ],
   "metadata": {
    "collapsed": false,
    "ExecuteTime": {
     "end_time": "2023-10-26T13:34:58.293547Z",
     "start_time": "2023-10-26T13:34:58.272603100Z"
    }
   },
   "id": "498b8842ec780955"
  }
 ],
 "metadata": {
  "kernelspec": {
   "display_name": "Python 3",
   "language": "python",
   "name": "python3"
  },
  "language_info": {
   "codemirror_mode": {
    "name": "ipython",
    "version": 2
   },
   "file_extension": ".py",
   "mimetype": "text/x-python",
   "name": "python",
   "nbconvert_exporter": "python",
   "pygments_lexer": "ipython2",
   "version": "2.7.6"
  }
 },
 "nbformat": 4,
 "nbformat_minor": 5
}
